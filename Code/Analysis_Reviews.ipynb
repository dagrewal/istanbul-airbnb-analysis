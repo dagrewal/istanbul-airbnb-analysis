{
 "cells": [
  {
   "cell_type": "code",
   "execution_count": 3,
   "metadata": {},
   "outputs": [],
   "source": [
    "# import libraries\n",
    "import pandas as pd; import numpy as np; import matplotlib.pyplot as plt; import seaborn as sns; import re;\n",
    "from wordcloud import WordCloud, STOPWORDS, ImageColorGenerator\n",
    "from nltk.corpus import stopwords; from nltk.stem import WordNetLemmatizer; from nltk.tokenize import word_tokenize\n",
    "from sklearn.feature_extraction.text import TfidfVectorizer\n",
    "from sklearn.manifold import TSNE\n",
    "from sklearn.cluster import KMeans\n",
    "from collections import Counter\n",
    "from gensim.models.phrases import Phrases, Phraser\n",
    "from gensim.models import Word2Vec\n",
    "import multiprocessing\n",
    "from time import time\n",
    "\n",
    "%matplotlib inline"
   ]
  },
  {
   "cell_type": "code",
   "execution_count": 4,
   "metadata": {},
   "outputs": [],
   "source": [
    "# read in data\n",
    "df = pd.read_csv(\"../Data/DataPrepQ2.csv\", low_memory=False)"
   ]
  },
  {
   "cell_type": "code",
   "execution_count": 5,
   "metadata": {},
   "outputs": [
    {
     "data": {
      "text/html": [
       "<div>\n",
       "<style scoped>\n",
       "    .dataframe tbody tr th:only-of-type {\n",
       "        vertical-align: middle;\n",
       "    }\n",
       "\n",
       "    .dataframe tbody tr th {\n",
       "        vertical-align: top;\n",
       "    }\n",
       "\n",
       "    .dataframe thead th {\n",
       "        text-align: right;\n",
       "    }\n",
       "</style>\n",
       "<table border=\"1\" class=\"dataframe\">\n",
       "  <thead>\n",
       "    <tr style=\"text-align: right;\">\n",
       "      <th></th>\n",
       "      <th>listing_id</th>\n",
       "      <th>id_x</th>\n",
       "      <th>date</th>\n",
       "      <th>reviewer_id</th>\n",
       "      <th>reviewer_name</th>\n",
       "      <th>comments</th>\n",
       "      <th>id_y</th>\n",
       "      <th>summary</th>\n",
       "      <th>description</th>\n",
       "      <th>neighbourhood_cleansed</th>\n",
       "      <th>review_scores_rating</th>\n",
       "    </tr>\n",
       "  </thead>\n",
       "  <tbody>\n",
       "    <tr>\n",
       "      <th>0</th>\n",
       "      <td>4826</td>\n",
       "      <td>3419</td>\n",
       "      <td>2009-06-01</td>\n",
       "      <td>13823</td>\n",
       "      <td>Anja</td>\n",
       "      <td>We just came back from a weeks stay at Kaan's ...</td>\n",
       "      <td>4826</td>\n",
       "      <td>My place is close to great views. My place is ...</td>\n",
       "      <td>My place is close to great views. My place is ...</td>\n",
       "      <td>Uskudar</td>\n",
       "      <td>100.0</td>\n",
       "    </tr>\n",
       "    <tr>\n",
       "      <th>1</th>\n",
       "      <td>20815</td>\n",
       "      <td>31174</td>\n",
       "      <td>2010-03-24</td>\n",
       "      <td>49388</td>\n",
       "      <td>Chuck</td>\n",
       "      <td>My daughter and her friend and I all stayed at...</td>\n",
       "      <td>20815</td>\n",
       "      <td>Watch The Bosphorus from The Comfy Hill. A spa...</td>\n",
       "      <td>Watch The Bosphorus from The Comfy Hill. A spa...</td>\n",
       "      <td>Besiktas</td>\n",
       "      <td>90.0</td>\n",
       "    </tr>\n",
       "    <tr>\n",
       "      <th>2</th>\n",
       "      <td>20815</td>\n",
       "      <td>40738</td>\n",
       "      <td>2010-05-08</td>\n",
       "      <td>93598</td>\n",
       "      <td>Sara</td>\n",
       "      <td>You cannot find a better place to stay in Turk...</td>\n",
       "      <td>20815</td>\n",
       "      <td>Watch The Bosphorus from The Comfy Hill. A spa...</td>\n",
       "      <td>Watch The Bosphorus from The Comfy Hill. A spa...</td>\n",
       "      <td>Besiktas</td>\n",
       "      <td>90.0</td>\n",
       "    </tr>\n",
       "    <tr>\n",
       "      <th>3</th>\n",
       "      <td>20815</td>\n",
       "      <td>49182</td>\n",
       "      <td>2010-06-02</td>\n",
       "      <td>108540</td>\n",
       "      <td>Suzan</td>\n",
       "      <td>This comfortable apartment truly deserves the ...</td>\n",
       "      <td>20815</td>\n",
       "      <td>Watch The Bosphorus from The Comfy Hill. A spa...</td>\n",
       "      <td>Watch The Bosphorus from The Comfy Hill. A spa...</td>\n",
       "      <td>Besiktas</td>\n",
       "      <td>90.0</td>\n",
       "    </tr>\n",
       "    <tr>\n",
       "      <th>4</th>\n",
       "      <td>20815</td>\n",
       "      <td>85462</td>\n",
       "      <td>2010-08-27</td>\n",
       "      <td>126482</td>\n",
       "      <td>William</td>\n",
       "      <td>I second all the excellent reviews of this pla...</td>\n",
       "      <td>20815</td>\n",
       "      <td>Watch The Bosphorus from The Comfy Hill. A spa...</td>\n",
       "      <td>Watch The Bosphorus from The Comfy Hill. A spa...</td>\n",
       "      <td>Besiktas</td>\n",
       "      <td>90.0</td>\n",
       "    </tr>\n",
       "  </tbody>\n",
       "</table>\n",
       "</div>"
      ],
      "text/plain": [
       "   listing_id   id_x        date  reviewer_id reviewer_name  \\\n",
       "0        4826   3419  2009-06-01        13823          Anja   \n",
       "1       20815  31174  2010-03-24        49388         Chuck   \n",
       "2       20815  40738  2010-05-08        93598          Sara   \n",
       "3       20815  49182  2010-06-02       108540         Suzan   \n",
       "4       20815  85462  2010-08-27       126482       William   \n",
       "\n",
       "                                            comments   id_y  \\\n",
       "0  We just came back from a weeks stay at Kaan's ...   4826   \n",
       "1  My daughter and her friend and I all stayed at...  20815   \n",
       "2  You cannot find a better place to stay in Turk...  20815   \n",
       "3  This comfortable apartment truly deserves the ...  20815   \n",
       "4  I second all the excellent reviews of this pla...  20815   \n",
       "\n",
       "                                             summary  \\\n",
       "0  My place is close to great views. My place is ...   \n",
       "1  Watch The Bosphorus from The Comfy Hill. A spa...   \n",
       "2  Watch The Bosphorus from The Comfy Hill. A spa...   \n",
       "3  Watch The Bosphorus from The Comfy Hill. A spa...   \n",
       "4  Watch The Bosphorus from The Comfy Hill. A spa...   \n",
       "\n",
       "                                         description neighbourhood_cleansed  \\\n",
       "0  My place is close to great views. My place is ...                Uskudar   \n",
       "1  Watch The Bosphorus from The Comfy Hill. A spa...               Besiktas   \n",
       "2  Watch The Bosphorus from The Comfy Hill. A spa...               Besiktas   \n",
       "3  Watch The Bosphorus from The Comfy Hill. A spa...               Besiktas   \n",
       "4  Watch The Bosphorus from The Comfy Hill. A spa...               Besiktas   \n",
       "\n",
       "   review_scores_rating  \n",
       "0                 100.0  \n",
       "1                  90.0  \n",
       "2                  90.0  \n",
       "3                  90.0  \n",
       "4                  90.0  "
      ]
     },
     "execution_count": 5,
     "metadata": {},
     "output_type": "execute_result"
    }
   ],
   "source": [
    "# view df at high level\n",
    "df.head()"
   ]
  },
  {
   "cell_type": "code",
   "execution_count": 6,
   "metadata": {},
   "outputs": [
    {
     "name": "stdout",
     "output_type": "stream",
     "text": [
      "<class 'pandas.core.frame.DataFrame'>\n",
      "RangeIndex: 195780 entries, 0 to 195779\n",
      "Data columns (total 11 columns):\n",
      " #   Column                  Non-Null Count   Dtype  \n",
      "---  ------                  --------------   -----  \n",
      " 0   listing_id              195780 non-null  int64  \n",
      " 1   id_x                    195780 non-null  int64  \n",
      " 2   date                    195780 non-null  object \n",
      " 3   reviewer_id             195780 non-null  int64  \n",
      " 4   reviewer_name           195780 non-null  object \n",
      " 5   comments                195521 non-null  object \n",
      " 6   id_y                    195780 non-null  int64  \n",
      " 7   summary                 183428 non-null  object \n",
      " 8   description             193388 non-null  object \n",
      " 9   neighbourhood_cleansed  195780 non-null  object \n",
      " 10  review_scores_rating    195142 non-null  float64\n",
      "dtypes: float64(1), int64(4), object(6)\n",
      "memory usage: 16.4+ MB\n"
     ]
    }
   ],
   "source": [
    "df.info()"
   ]
  },
  {
   "cell_type": "code",
   "execution_count": 7,
   "metadata": {},
   "outputs": [],
   "source": [
    "# remove rows with empty comments\n",
    "df = df.dropna(subset=['comments'], axis=0)"
   ]
  },
  {
   "cell_type": "code",
   "execution_count": 8,
   "metadata": {},
   "outputs": [],
   "source": [
    "# clean the reviewer comments\n",
    "def clean_comment(comment):\n",
    "    comment = re.sub(r\"[^a-zA-Z ]\", \"\", comment.lower())\n",
    "    comment_tokens = word_tokenize(comment)\n",
    "    stops = set(stopwords.words('english'))\n",
    "    comment_cleaned = ' '.join(word for word in comment_tokens if word not in stops)\n",
    "    return comment_cleaned\n"
   ]
  },
  {
   "cell_type": "code",
   "execution_count": 9,
   "metadata": {},
   "outputs": [],
   "source": [
    "clean_comments = []\n",
    "for i in df.comments:\n",
    "    clean_comments.append(clean_comment(i))"
   ]
  },
  {
   "cell_type": "code",
   "execution_count": 10,
   "metadata": {},
   "outputs": [],
   "source": [
    "# new feature containing cleaned comments\n",
    "df['comment_cleaned'] = clean_comments"
   ]
  },
  {
   "cell_type": "code",
   "execution_count": 11,
   "metadata": {},
   "outputs": [],
   "source": [
    "# join all comments together for wordcloud\n",
    "comments = ' '.join(comment for comment in clean_comments)\n",
    "comments_tokenized = word_tokenize(comments)\n",
    "counter = Counter(comments_tokenized)"
   ]
  },
  {
   "cell_type": "code",
   "execution_count": 12,
   "metadata": {},
   "outputs": [
    {
     "data": {
      "text/plain": [
       "[('place', 75197),\n",
       " ('great', 72204),\n",
       " ('apartment', 68540),\n",
       " ('location', 57463),\n",
       " ('stay', 55515),\n",
       " ('istanbul', 46776),\n",
       " ('host', 44951),\n",
       " ('nice', 44363),\n",
       " ('clean', 41910),\n",
       " ('us', 41825)]"
      ]
     },
     "execution_count": 12,
     "metadata": {},
     "output_type": "execute_result"
    }
   ],
   "source": [
    "counter.most_common(10)"
   ]
  },
  {
   "cell_type": "code",
   "execution_count": 13,
   "metadata": {},
   "outputs": [],
   "source": [
    "comments = ' '.join(word for word in comments_tokenized if word not in ['istanbul'])"
   ]
  },
  {
   "cell_type": "code",
   "execution_count": 16,
   "metadata": {},
   "outputs": [],
   "source": [
    "wc = WordCloud(background_color='white').generate(comments)"
   ]
  },
  {
   "cell_type": "code",
   "execution_count": 17,
   "metadata": {},
   "outputs": [
    {
     "data": {
      "image/png": "[encoded data removed]",
      "text/plain": [
       "<Figure size 1296x432 with 1 Axes>"
      ]
     },
     "metadata": {
      "needs_background": "light"
     },
     "output_type": "display_data"
    }
   ],
   "source": [
    "plt.figure(figsize=(18,6))\n",
    "plt.imshow(wc, interpolation='bilinear');\n",
    "plt.axis(\"off\");\n",
    "plt.savefig(\"../Static/wc_1.png\")"
   ]
  },
  {
   "cell_type": "code",
   "execution_count": 18,
   "metadata": {},
   "outputs": [
    {
     "ename": "NameError",
     "evalue": "name 'text' is not defined",
     "output_type": "error",
     "traceback": [
      "\u001b[0;31m---------------------------------------------------------------------------\u001b[0m",
      "\u001b[0;31mNameError\u001b[0m                                 Traceback (most recent call last)",
      "\u001b[0;32m<ipython-input-18-b3f0f3fb7a60>\u001b[0m in \u001b[0;36m<module>\u001b[0;34m\u001b[0m\n\u001b[0;32m----> 1\u001b[0;31m \u001b[0mkadikoy_wc\u001b[0m \u001b[0;34m=\u001b[0m \u001b[0mWordCloud\u001b[0m\u001b[0;34m(\u001b[0m\u001b[0mbackground_color\u001b[0m\u001b[0;34m=\u001b[0m\u001b[0;34m'white'\u001b[0m\u001b[0;34m)\u001b[0m\u001b[0;34m.\u001b[0m\u001b[0mgenerate\u001b[0m\u001b[0;34m(\u001b[0m\u001b[0mtext\u001b[0m\u001b[0;34m)\u001b[0m\u001b[0;34m\u001b[0m\u001b[0;34m\u001b[0m\u001b[0m\n\u001b[0m\u001b[1;32m      2\u001b[0m \u001b[0mplt\u001b[0m\u001b[0;34m.\u001b[0m\u001b[0mfigure\u001b[0m\u001b[0;34m(\u001b[0m\u001b[0mfigsize\u001b[0m\u001b[0;34m=\u001b[0m\u001b[0;34m(\u001b[0m\u001b[0;36m18\u001b[0m\u001b[0;34m,\u001b[0m\u001b[0;36m6\u001b[0m\u001b[0;34m)\u001b[0m\u001b[0;34m)\u001b[0m\u001b[0;34m\u001b[0m\u001b[0;34m\u001b[0m\u001b[0m\n\u001b[1;32m      3\u001b[0m \u001b[0mplt\u001b[0m\u001b[0;34m.\u001b[0m\u001b[0mimshow\u001b[0m\u001b[0;34m(\u001b[0m\u001b[0mkadikoy_wc\u001b[0m\u001b[0;34m,\u001b[0m \u001b[0minterpolation\u001b[0m\u001b[0;34m=\u001b[0m\u001b[0;34m'bilinear'\u001b[0m\u001b[0;34m)\u001b[0m\u001b[0;34m;\u001b[0m\u001b[0;34m\u001b[0m\u001b[0;34m\u001b[0m\u001b[0m\n\u001b[1;32m      4\u001b[0m \u001b[0mplt\u001b[0m\u001b[0;34m.\u001b[0m\u001b[0maxis\u001b[0m\u001b[0;34m(\u001b[0m\u001b[0;34m\"off\"\u001b[0m\u001b[0;34m)\u001b[0m\u001b[0;34m;\u001b[0m\u001b[0;34m\u001b[0m\u001b[0;34m\u001b[0m\u001b[0m\n\u001b[1;32m      5\u001b[0m \u001b[0mplt\u001b[0m\u001b[0;34m.\u001b[0m\u001b[0msavefig\u001b[0m\u001b[0;34m(\u001b[0m\u001b[0;34m\"../Static/wc_2.png\"\u001b[0m\u001b[0;34m)\u001b[0m\u001b[0;34m\u001b[0m\u001b[0;34m\u001b[0m\u001b[0m\n",
      "\u001b[0;31mNameError\u001b[0m: name 'text' is not defined"
     ]
    }
   ],
   "source": [
    "kadikoy_wc = WordCloud(background_color='white').generate()\n",
    "plt.figure(figsize=(18,6))\n",
    "plt.imshow(kadikoy_wc, interpolation='bilinear');\n",
    "plt.axis(\"off\");\n",
    "plt.savefig(\"../Static/wc_2.png\")"
   ]
  },
  {
   "cell_type": "code",
   "execution_count": null,
   "metadata": {},
   "outputs": [],
   "source": [
    "fatih_comments = ' '.join(comment for comment in df.loc[df.neighbourhood_cleansed == 'Fatih', 'comment_cleaned'])\n",
    "fatih_wc = WordCloud(background_color='white').generate(text)\n",
    "plt.figure(figsize=(18,6))\n",
    "plt.imshow(fatih_wc, interpolation='bilinear')\n",
    "plt.axis(\"off\")\n",
    "plt.show()\n",
    "plt.savefig(\"../Static/wc_3.png\")"
   ]
  },
  {
   "cell_type": "code",
   "execution_count": 19,
   "metadata": {},
   "outputs": [],
   "source": [
    "# assess comment quality\n",
    "df['comment_len'] = df.comment_cleaned.str.split().str.len()\n",
    "df['comment_unique_len'] = df.comment_cleaned.apply(lambda x: len(set(x.split())))\n",
    "df['comment_quality'] = df.comment_unique_len / df.comment_len"
   ]
  },
  {
   "cell_type": "code",
   "execution_count": 20,
   "metadata": {},
   "outputs": [],
   "source": [
    "# remove comments that had less than 3 words - these won't prove useful for word2vec model\n",
    "df_1 = df.loc[df.comment_len > 3].copy()"
   ]
  },
  {
   "cell_type": "code",
   "execution_count": 21,
   "metadata": {},
   "outputs": [],
   "source": [
    "# convert comments to list of lists for preparation for phraser\n",
    "comments = [word_tokenize(comment) for comment in df_1.comment_cleaned]"
   ]
  },
  {
   "cell_type": "code",
   "execution_count": 22,
   "metadata": {},
   "outputs": [],
   "source": [
    "# find phrases in documents\n",
    "phrases = Phrases(comments, min_count=30)"
   ]
  },
  {
   "cell_type": "code",
   "execution_count": 23,
   "metadata": {},
   "outputs": [],
   "source": [
    "# build bigram phraser\n",
    "bigrams = Phraser(phrases)"
   ]
  },
  {
   "cell_type": "code",
   "execution_count": 24,
   "metadata": {},
   "outputs": [],
   "source": [
    "# transform corpus by identifying all relevant bigrams\n",
    "comments_w_bigrams = bigrams[comments]"
   ]
  },
  {
   "cell_type": "code",
   "execution_count": 18,
   "metadata": {},
   "outputs": [],
   "source": [
    "# identify number of cores available to train word2vec model\n",
    "cores = multiprocessing.cpu_count()"
   ]
  },
  {
   "cell_type": "code",
   "execution_count": 20,
   "metadata": {},
   "outputs": [],
   "source": [
    "# create w2v model with params initialized\n",
    "#w2v_model = Word2Vec(sg=1, hs=1, min_count=50, window=2, size=300, sample=1e-5, alpha=0.03, min_alpha=0.0006, negative=20, workers=cores-1, iter=3, seed=37)\n",
    "# build the vocab for w2v model\n",
    "#t = time()\n",
    "\n",
    "#w2v_model.build_vocab(comments_w_bigrams, progress_per=10000)\n",
    "\n",
    "#print('Time to build vocab: {} mins'.format(round((time() - t) / 60, 2)))\n",
    "# train the w2v model on the comment data\n",
    "#t = time()\n",
    "\n",
    "#w2v_model.train(comments_w_bigrams, total_examples=w2v_model.corpus_count, epochs=10)\n",
    "\n",
    "#print('Time to train the model: {} mins'.format(round((time() - t) / 60, 2)))"
   ]
  },
  {
   "cell_type": "code",
   "execution_count": 25,
   "metadata": {},
   "outputs": [],
   "source": [
    "# make the model memory efficient after training\n",
    "#w2v_model.init_sims(replace=True)"
   ]
  },
  {
   "cell_type": "code",
   "execution_count": 25,
   "metadata": {},
   "outputs": [],
   "source": [
    "w2v_model = Word2Vec.load(\"../Models/word_2_vec_comments.model\")"
   ]
  },
  {
   "cell_type": "code",
   "execution_count": 26,
   "metadata": {},
   "outputs": [
    {
     "data": {
      "text/plain": [
       "[('amazing', 0.7668002247810364),\n",
       " ('awesome', 0.7641927003860474),\n",
       " ('perfect', 0.7346498966217041),\n",
       " ('wonderful', 0.7198468446731567),\n",
       " ('highly_recommended', 0.7192769050598145),\n",
       " ('really', 0.6984049081802368),\n",
       " ('good', 0.6972649097442627),\n",
       " ('highly_recommend', 0.6950176358222961),\n",
       " ('fantastic', 0.6937698125839233),\n",
       " ('location', 0.693158745765686)]"
      ]
     },
     "execution_count": 26,
     "metadata": {},
     "output_type": "execute_result"
    }
   ],
   "source": [
    "# check the results of the model\n",
    "w2v_model.wv.most_similar(positive=['great'])"
   ]
  },
  {
   "cell_type": "code",
   "execution_count": 27,
   "metadata": {},
   "outputs": [
    {
     "data": {
      "text/plain": [
       "[('ferries', 0.7675091028213501),\n",
       " ('pier', 0.6957144737243652),\n",
       " ('take_ferry', 0.6801434755325317),\n",
       " ('kadikoy', 0.6687135100364685),\n",
       " ('asian_side', 0.6622865796089172),\n",
       " ('european_side', 0.6615545749664307),\n",
       " ('ferry_station', 0.6602094173431396),\n",
       " ('ferry_terminal', 0.6580735445022583),\n",
       " ('port', 0.6572026610374451),\n",
       " ('marmaray', 0.6471282243728638)]"
      ]
     },
     "execution_count": 27,
     "metadata": {},
     "output_type": "execute_result"
    }
   ],
   "source": [
    "w2v_model.wv.most_similar(positive=['ferry'])"
   ]
  },
  {
   "cell_type": "code",
   "execution_count": 28,
   "metadata": {},
   "outputs": [
    {
     "data": {
      "text/plain": [
       "[('turkish', 0.5209288001060486),\n",
       " ('discussions', 0.4918050765991211),\n",
       " ('history', 0.4840219020843506)]"
      ]
     },
     "execution_count": 28,
     "metadata": {},
     "output_type": "execute_result"
    }
   ],
   "source": [
    "w2v_model.wv.most_similar(positive=[\"culture\", \"food\"], negative=[\"location\"], topn=3)"
   ]
  },
  {
   "cell_type": "code",
   "execution_count": 33,
   "metadata": {},
   "outputs": [],
   "source": [
    "# persist the w2v model\n",
    "#w2v_model.save(\"../Models/word_2_vec_comments.model\")"
   ]
  },
  {
   "cell_type": "code",
   "execution_count": 29,
   "metadata": {},
   "outputs": [],
   "source": [
    "# apply kmeans model to word vectors to identify langauge\n",
    "kmeans_model = KMeans(n_clusters=4, n_init=20, max_iter=1000, random_state=37)"
   ]
  },
  {
   "cell_type": "code",
   "execution_count": 30,
   "metadata": {},
   "outputs": [],
   "source": [
    "cluster_comments = kmeans_model.fit(w2v_model.wv.vectors)"
   ]
  },
  {
   "cell_type": "code",
   "execution_count": 31,
   "metadata": {},
   "outputs": [
    {
     "data": {
      "text/plain": [
       "[('bir', 0.880141019821167),\n",
       " ('ev', 0.86890709400177),\n",
       " ('gzel', 0.8585542440414429),\n",
       " ('ayrca', 0.8583550453186035),\n",
       " ('ancak', 0.8379968404769897),\n",
       " ('daha', 0.8368375301361084),\n",
       " ('iin', 0.8365836143493652),\n",
       " ('rahat', 0.8352181911468506),\n",
       " ('zellikle', 0.8306886553764343),\n",
       " ('ise', 0.8300820589065552)]"
      ]
     },
     "execution_count": 31,
     "metadata": {},
     "output_type": "execute_result"
    }
   ],
   "source": [
    "w2v_model.wv.similar_by_vector(kmeans_model.cluster_centers_[3], topn=10, restrict_vocab=None)"
   ]
  },
  {
   "cell_type": "code",
   "execution_count": 32,
   "metadata": {},
   "outputs": [],
   "source": [
    "# assign labels to words - first create new df for terms, vectors and cluster assignments\n",
    "terms_df = pd.DataFrame(w2v_model.wv.vocab.keys())\n",
    "terms_df.columns = ['term']"
   ]
  },
  {
   "cell_type": "code",
   "execution_count": 33,
   "metadata": {},
   "outputs": [],
   "source": [
    "terms_df['vector'] = terms_df.term.apply(lambda x: w2v_model.wv[f\"{x}\"])"
   ]
  },
  {
   "cell_type": "code",
   "execution_count": 34,
   "metadata": {},
   "outputs": [],
   "source": [
    "terms_df['cluster'] = terms_df.vector.apply(lambda x: kmeans_model.predict([np.array(x)]))"
   ]
  },
  {
   "cell_type": "code",
   "execution_count": 35,
   "metadata": {},
   "outputs": [],
   "source": [
    "terms_df.cluster = terms_df.cluster.apply(lambda x: x[0])"
   ]
  },
  {
   "cell_type": "code",
   "execution_count": 36,
   "metadata": {},
   "outputs": [
    {
     "data": {
      "text/html": [
       "<div>\n",
       "<style scoped>\n",
       "    .dataframe tbody tr th:only-of-type {\n",
       "        vertical-align: middle;\n",
       "    }\n",
       "\n",
       "    .dataframe tbody tr th {\n",
       "        vertical-align: top;\n",
       "    }\n",
       "\n",
       "    .dataframe thead th {\n",
       "        text-align: right;\n",
       "    }\n",
       "</style>\n",
       "<table border=\"1\" class=\"dataframe\">\n",
       "  <thead>\n",
       "    <tr style=\"text-align: right;\">\n",
       "      <th></th>\n",
       "      <th>term</th>\n",
       "      <th>vector</th>\n",
       "      <th>cluster</th>\n",
       "    </tr>\n",
       "  </thead>\n",
       "  <tbody>\n",
       "    <tr>\n",
       "      <th>0</th>\n",
       "      <td>came_back</td>\n",
       "      <td>[-0.008817731, 0.057169832, -0.024302248, 0.00...</td>\n",
       "      <td>1</td>\n",
       "    </tr>\n",
       "    <tr>\n",
       "      <th>1</th>\n",
       "      <td>weeks</td>\n",
       "      <td>[0.10963966, 0.0849386, 0.028239317, -0.007276...</td>\n",
       "      <td>1</td>\n",
       "    </tr>\n",
       "    <tr>\n",
       "      <th>2</th>\n",
       "      <td>stay</td>\n",
       "      <td>[0.12136386, 0.06508104, 0.03630459, -0.041549...</td>\n",
       "      <td>1</td>\n",
       "    </tr>\n",
       "    <tr>\n",
       "      <th>3</th>\n",
       "      <td>apartment</td>\n",
       "      <td>[0.14439917, 0.03958666, 0.057837404, -0.01291...</td>\n",
       "      <td>1</td>\n",
       "    </tr>\n",
       "    <tr>\n",
       "      <th>4</th>\n",
       "      <td>loved</td>\n",
       "      <td>[0.14644483, 0.021480171, -0.002340784, 0.0003...</td>\n",
       "      <td>1</td>\n",
       "    </tr>\n",
       "  </tbody>\n",
       "</table>\n",
       "</div>"
      ],
      "text/plain": [
       "        term                                             vector  cluster\n",
       "0  came_back  [-0.008817731, 0.057169832, -0.024302248, 0.00...        1\n",
       "1      weeks  [0.10963966, 0.0849386, 0.028239317, -0.007276...        1\n",
       "2       stay  [0.12136386, 0.06508104, 0.03630459, -0.041549...        1\n",
       "3  apartment  [0.14439917, 0.03958666, 0.057837404, -0.01291...        1\n",
       "4      loved  [0.14644483, 0.021480171, -0.002340784, 0.0003...        1"
      ]
     },
     "execution_count": 36,
     "metadata": {},
     "output_type": "execute_result"
    }
   ],
   "source": [
    "terms_df.head()"
   ]
  },
  {
   "cell_type": "code",
   "execution_count": 37,
   "metadata": {},
   "outputs": [],
   "source": [
    "# filter english terms\n",
    "english_terms = set(terms_df.loc[terms_df.cluster == 1, 'term'].values)"
   ]
  },
  {
   "cell_type": "code",
   "execution_count": 38,
   "metadata": {},
   "outputs": [],
   "source": [
    "# make new df showing comments\n",
    "df_1['comment'] = [i for i in comments_w_bigrams]"
   ]
  },
  {
   "cell_type": "code",
   "execution_count": 39,
   "metadata": {},
   "outputs": [],
   "source": [
    "# create new feature showing number of words in comment that are from english terms\n",
    "df_1['language'] = df_1.comment.apply(lambda x: len([word for word in x if word in english_terms]))"
   ]
  },
  {
   "cell_type": "code",
   "execution_count": 40,
   "metadata": {},
   "outputs": [],
   "source": [
    "# new df for english comments\n",
    "english_df = df_1.loc[df_1.language > 0].copy()"
   ]
  },
  {
   "cell_type": "code",
   "execution_count": 41,
   "metadata": {},
   "outputs": [],
   "source": [
    "# determine if comment has enough english words to be considered english\n",
    "english_df.language = english_df.apply(lambda x: 'English' if x['language'] / len(x['comment']) >= .5 else 'Foreign', axis=1)"
   ]
  },
  {
   "cell_type": "code",
   "execution_count": 42,
   "metadata": {},
   "outputs": [],
   "source": [
    "# filter on language column\n",
    "english_df = english_df.loc[english_df.language == 'English']"
   ]
  },
  {
   "cell_type": "code",
   "execution_count": 43,
   "metadata": {},
   "outputs": [
    {
     "data": {
      "text/html": [
       "<div>\n",
       "<style scoped>\n",
       "    .dataframe tbody tr th:only-of-type {\n",
       "        vertical-align: middle;\n",
       "    }\n",
       "\n",
       "    .dataframe tbody tr th {\n",
       "        vertical-align: top;\n",
       "    }\n",
       "\n",
       "    .dataframe thead th {\n",
       "        text-align: right;\n",
       "    }\n",
       "</style>\n",
       "<table border=\"1\" class=\"dataframe\">\n",
       "  <thead>\n",
       "    <tr style=\"text-align: right;\">\n",
       "      <th></th>\n",
       "      <th>listing_id</th>\n",
       "      <th>id_x</th>\n",
       "      <th>date</th>\n",
       "      <th>reviewer_id</th>\n",
       "      <th>reviewer_name</th>\n",
       "      <th>comments</th>\n",
       "      <th>id_y</th>\n",
       "      <th>summary</th>\n",
       "      <th>description</th>\n",
       "      <th>neighbourhood_cleansed</th>\n",
       "      <th>review_scores_rating</th>\n",
       "      <th>comment_cleaned</th>\n",
       "      <th>comment_len</th>\n",
       "      <th>comment_unique_len</th>\n",
       "      <th>comment_quality</th>\n",
       "      <th>comment</th>\n",
       "      <th>language</th>\n",
       "    </tr>\n",
       "  </thead>\n",
       "  <tbody>\n",
       "    <tr>\n",
       "      <th>37983</th>\n",
       "      <td>3304098</td>\n",
       "      <td>53305898</td>\n",
       "      <td>2015-11-07</td>\n",
       "      <td>12396780</td>\n",
       "      <td>Maurits</td>\n",
       "      <td>Very nice, polite, helpful, English speaking g...</td>\n",
       "      <td>3304098</td>\n",
       "      <td>In the heart of Istanbul where all attractions...</td>\n",
       "      <td>In the heart of Istanbul where all attractions...</td>\n",
       "      <td>Beyoglu</td>\n",
       "      <td>92.0</td>\n",
       "      <td>nice polite helpful english speaking girl plac...</td>\n",
       "      <td>27</td>\n",
       "      <td>26</td>\n",
       "      <td>0.962963</td>\n",
       "      <td>[nice, polite, helpful, english_speaking, girl...</td>\n",
       "      <td>English</td>\n",
       "    </tr>\n",
       "    <tr>\n",
       "      <th>14553</th>\n",
       "      <td>908653</td>\n",
       "      <td>173949835</td>\n",
       "      <td>2017-07-24</td>\n",
       "      <td>72391203</td>\n",
       "      <td>Anton</td>\n",
       "      <td>Overall great budget stay !!</td>\n",
       "      <td>908653</td>\n",
       "      <td>This is bright 1-room  apartment, located in T...</td>\n",
       "      <td>This is bright 1-room  apartment, located in T...</td>\n",
       "      <td>Beyoglu</td>\n",
       "      <td>95.0</td>\n",
       "      <td>overall great budget stay</td>\n",
       "      <td>4</td>\n",
       "      <td>4</td>\n",
       "      <td>1.000000</td>\n",
       "      <td>[overall, great, budget, stay]</td>\n",
       "      <td>English</td>\n",
       "    </tr>\n",
       "    <tr>\n",
       "      <th>22693</th>\n",
       "      <td>1230718</td>\n",
       "      <td>232534008</td>\n",
       "      <td>2018-02-05</td>\n",
       "      <td>164801465</td>\n",
       "      <td>Yuyuan</td>\n",
       "      <td>very convenient location and comfortable  plac...</td>\n",
       "      <td>1230718</td>\n",
       "      <td>''Pashas House'' is in the heart of the histor...</td>\n",
       "      <td>''Pashas House'' is in the heart of the histor...</td>\n",
       "      <td>Fatih</td>\n",
       "      <td>95.0</td>\n",
       "      <td>convenient location comfortable place least st...</td>\n",
       "      <td>8</td>\n",
       "      <td>8</td>\n",
       "      <td>1.000000</td>\n",
       "      <td>[convenient, location, comfortable, place, lea...</td>\n",
       "      <td>English</td>\n",
       "    </tr>\n",
       "    <tr>\n",
       "      <th>24</th>\n",
       "      <td>20815</td>\n",
       "      <td>79643992</td>\n",
       "      <td>2016-06-13</td>\n",
       "      <td>22721139</td>\n",
       "      <td>Baskut</td>\n",
       "      <td>A nice simple apartment with a great view in a...</td>\n",
       "      <td>20815</td>\n",
       "      <td>Watch The Bosphorus from The Comfy Hill. A spa...</td>\n",
       "      <td>Watch The Bosphorus from The Comfy Hill. A spa...</td>\n",
       "      <td>Besiktas</td>\n",
       "      <td>90.0</td>\n",
       "      <td>nice simple apartment great view good location...</td>\n",
       "      <td>10</td>\n",
       "      <td>9</td>\n",
       "      <td>0.900000</td>\n",
       "      <td>[nice, simple, apartment, great, view, good, l...</td>\n",
       "      <td>English</td>\n",
       "    </tr>\n",
       "    <tr>\n",
       "      <th>57692</th>\n",
       "      <td>5644556</td>\n",
       "      <td>38058602</td>\n",
       "      <td>2015-07-12</td>\n",
       "      <td>16686859</td>\n",
       "      <td>Krishna</td>\n",
       "      <td>We had a wonderful time at Galata Tower VIP Ap...</td>\n",
       "      <td>5644556</td>\n",
       "      <td>This is a newly renovated apartment in a histo...</td>\n",
       "      <td>This is a newly renovated apartment in a histo...</td>\n",
       "      <td>Beyoglu</td>\n",
       "      <td>85.0</td>\n",
       "      <td>wonderful time galata tower vip apartments loc...</td>\n",
       "      <td>60</td>\n",
       "      <td>59</td>\n",
       "      <td>0.983333</td>\n",
       "      <td>[wonderful, time, galata_tower, vip, apartment...</td>\n",
       "      <td>English</td>\n",
       "    </tr>\n",
       "    <tr>\n",
       "      <th>183984</th>\n",
       "      <td>37982605</td>\n",
       "      <td>563517796</td>\n",
       "      <td>2019-11-13</td>\n",
       "      <td>33723095</td>\n",
       "      <td>Alexis</td>\n",
       "      <td>Wonderful stay at Fatih's. The appartment is v...</td>\n",
       "      <td>37982605</td>\n",
       "      <td>The apartment is situated at an elite quarter ...</td>\n",
       "      <td>The apartment is situated at an elite quarter ...</td>\n",
       "      <td>Beyoglu</td>\n",
       "      <td>100.0</td>\n",
       "      <td>wonderful stay fatihs appartment well located ...</td>\n",
       "      <td>16</td>\n",
       "      <td>15</td>\n",
       "      <td>0.937500</td>\n",
       "      <td>[wonderful, stay, fatihs, appartment, well_loc...</td>\n",
       "      <td>English</td>\n",
       "    </tr>\n",
       "    <tr>\n",
       "      <th>35772</th>\n",
       "      <td>2985376</td>\n",
       "      <td>22673099</td>\n",
       "      <td>2014-11-11</td>\n",
       "      <td>7402127</td>\n",
       "      <td>Anthony</td>\n",
       "      <td>The host's representative was timely and helpf...</td>\n",
       "      <td>2985376</td>\n",
       "      <td>The flat (80 m2) has 2 double sleeping rooms a...</td>\n",
       "      <td>The flat (80 m2) has 2 double sleeping rooms a...</td>\n",
       "      <td>Beyoglu</td>\n",
       "      <td>94.0</td>\n",
       "      <td>hosts representative timely helpful flat spaci...</td>\n",
       "      <td>26</td>\n",
       "      <td>26</td>\n",
       "      <td>1.000000</td>\n",
       "      <td>[hosts, representative, timely, helpful, flat,...</td>\n",
       "      <td>English</td>\n",
       "    </tr>\n",
       "    <tr>\n",
       "      <th>115304</th>\n",
       "      <td>22682048</td>\n",
       "      <td>444502963</td>\n",
       "      <td>2019-04-28</td>\n",
       "      <td>245244338</td>\n",
       "      <td>Olivier</td>\n",
       "      <td>Perfect location in Istanbul, just 5min walk t...</td>\n",
       "      <td>22682048</td>\n",
       "      <td>The apartment is located by 100 meters from th...</td>\n",
       "      <td>The apartment is located by 100 meters from th...</td>\n",
       "      <td>Beyoglu</td>\n",
       "      <td>96.0</td>\n",
       "      <td>perfect location istanbul min walk metro tramw...</td>\n",
       "      <td>24</td>\n",
       "      <td>22</td>\n",
       "      <td>0.916667</td>\n",
       "      <td>[perfect, location, istanbul, min_walk, metro,...</td>\n",
       "      <td>English</td>\n",
       "    </tr>\n",
       "    <tr>\n",
       "      <th>48515</th>\n",
       "      <td>4584562</td>\n",
       "      <td>211914812</td>\n",
       "      <td>2017-11-15</td>\n",
       "      <td>71534987</td>\n",
       "      <td>Denisa</td>\n",
       "      <td>We enjoyed our stay at Alihan's place. Nice an...</td>\n",
       "      <td>4584562</td>\n",
       "      <td>This is a cozy private room with ensuite bathr...</td>\n",
       "      <td>This is a cozy private room with ensuite bathr...</td>\n",
       "      <td>Fatih</td>\n",
       "      <td>91.0</td>\n",
       "      <td>enjoyed stay alihans place nice cozy good price</td>\n",
       "      <td>8</td>\n",
       "      <td>8</td>\n",
       "      <td>1.000000</td>\n",
       "      <td>[enjoyed_stay, alihans, place, nice, cozy, goo...</td>\n",
       "      <td>English</td>\n",
       "    </tr>\n",
       "    <tr>\n",
       "      <th>137356</th>\n",
       "      <td>28401040</td>\n",
       "      <td>545297932</td>\n",
       "      <td>2019-10-12</td>\n",
       "      <td>3659498</td>\n",
       "      <td>Ellina</td>\n",
       "      <td>Amazing location and extremely beautiful apart...</td>\n",
       "      <td>28401040</td>\n",
       "      <td>Şehrin en gözde semtinin göbeğinde, modern ve ...</td>\n",
       "      <td>Şehrin en gözde semtinin göbeğinde, modern ve ...</td>\n",
       "      <td>Sisli</td>\n",
       "      <td>98.0</td>\n",
       "      <td>amazing location extremely beautiful apartment...</td>\n",
       "      <td>20</td>\n",
       "      <td>20</td>\n",
       "      <td>1.000000</td>\n",
       "      <td>[amazing, location, extremely, beautiful, apar...</td>\n",
       "      <td>English</td>\n",
       "    </tr>\n",
       "  </tbody>\n",
       "</table>\n",
       "</div>"
      ],
      "text/plain": [
       "        listing_id       id_x        date  reviewer_id reviewer_name  \\\n",
       "37983      3304098   53305898  2015-11-07     12396780       Maurits   \n",
       "14553       908653  173949835  2017-07-24     72391203         Anton   \n",
       "22693      1230718  232534008  2018-02-05    164801465        Yuyuan   \n",
       "24           20815   79643992  2016-06-13     22721139        Baskut   \n",
       "57692      5644556   38058602  2015-07-12     16686859       Krishna   \n",
       "183984    37982605  563517796  2019-11-13     33723095        Alexis   \n",
       "35772      2985376   22673099  2014-11-11      7402127       Anthony   \n",
       "115304    22682048  444502963  2019-04-28    245244338       Olivier   \n",
       "48515      4584562  211914812  2017-11-15     71534987        Denisa   \n",
       "137356    28401040  545297932  2019-10-12      3659498        Ellina   \n",
       "\n",
       "                                                 comments      id_y  \\\n",
       "37983   Very nice, polite, helpful, English speaking g...   3304098   \n",
       "14553                       Overall great budget stay !!     908653   \n",
       "22693   very convenient location and comfortable  plac...   1230718   \n",
       "24      A nice simple apartment with a great view in a...     20815   \n",
       "57692   We had a wonderful time at Galata Tower VIP Ap...   5644556   \n",
       "183984  Wonderful stay at Fatih's. The appartment is v...  37982605   \n",
       "35772   The host's representative was timely and helpf...   2985376   \n",
       "115304  Perfect location in Istanbul, just 5min walk t...  22682048   \n",
       "48515   We enjoyed our stay at Alihan's place. Nice an...   4584562   \n",
       "137356  Amazing location and extremely beautiful apart...  28401040   \n",
       "\n",
       "                                                  summary  \\\n",
       "37983   In the heart of Istanbul where all attractions...   \n",
       "14553   This is bright 1-room  apartment, located in T...   \n",
       "22693   ''Pashas House'' is in the heart of the histor...   \n",
       "24      Watch The Bosphorus from The Comfy Hill. A spa...   \n",
       "57692   This is a newly renovated apartment in a histo...   \n",
       "183984  The apartment is situated at an elite quarter ...   \n",
       "35772   The flat (80 m2) has 2 double sleeping rooms a...   \n",
       "115304  The apartment is located by 100 meters from th...   \n",
       "48515   This is a cozy private room with ensuite bathr...   \n",
       "137356  Şehrin en gözde semtinin göbeğinde, modern ve ...   \n",
       "\n",
       "                                              description  \\\n",
       "37983   In the heart of Istanbul where all attractions...   \n",
       "14553   This is bright 1-room  apartment, located in T...   \n",
       "22693   ''Pashas House'' is in the heart of the histor...   \n",
       "24      Watch The Bosphorus from The Comfy Hill. A spa...   \n",
       "57692   This is a newly renovated apartment in a histo...   \n",
       "183984  The apartment is situated at an elite quarter ...   \n",
       "35772   The flat (80 m2) has 2 double sleeping rooms a...   \n",
       "115304  The apartment is located by 100 meters from th...   \n",
       "48515   This is a cozy private room with ensuite bathr...   \n",
       "137356  Şehrin en gözde semtinin göbeğinde, modern ve ...   \n",
       "\n",
       "       neighbourhood_cleansed  review_scores_rating  \\\n",
       "37983                 Beyoglu                  92.0   \n",
       "14553                 Beyoglu                  95.0   \n",
       "22693                   Fatih                  95.0   \n",
       "24                   Besiktas                  90.0   \n",
       "57692                 Beyoglu                  85.0   \n",
       "183984                Beyoglu                 100.0   \n",
       "35772                 Beyoglu                  94.0   \n",
       "115304                Beyoglu                  96.0   \n",
       "48515                   Fatih                  91.0   \n",
       "137356                  Sisli                  98.0   \n",
       "\n",
       "                                          comment_cleaned  comment_len  \\\n",
       "37983   nice polite helpful english speaking girl plac...           27   \n",
       "14553                           overall great budget stay            4   \n",
       "22693   convenient location comfortable place least st...            8   \n",
       "24      nice simple apartment great view good location...           10   \n",
       "57692   wonderful time galata tower vip apartments loc...           60   \n",
       "183984  wonderful stay fatihs appartment well located ...           16   \n",
       "35772   hosts representative timely helpful flat spaci...           26   \n",
       "115304  perfect location istanbul min walk metro tramw...           24   \n",
       "48515     enjoyed stay alihans place nice cozy good price            8   \n",
       "137356  amazing location extremely beautiful apartment...           20   \n",
       "\n",
       "        comment_unique_len  comment_quality  \\\n",
       "37983                   26         0.962963   \n",
       "14553                    4         1.000000   \n",
       "22693                    8         1.000000   \n",
       "24                       9         0.900000   \n",
       "57692                   59         0.983333   \n",
       "183984                  15         0.937500   \n",
       "35772                   26         1.000000   \n",
       "115304                  22         0.916667   \n",
       "48515                    8         1.000000   \n",
       "137356                  20         1.000000   \n",
       "\n",
       "                                                  comment language  \n",
       "37983   [nice, polite, helpful, english_speaking, girl...  English  \n",
       "14553                      [overall, great, budget, stay]  English  \n",
       "22693   [convenient, location, comfortable, place, lea...  English  \n",
       "24      [nice, simple, apartment, great, view, good, l...  English  \n",
       "57692   [wonderful, time, galata_tower, vip, apartment...  English  \n",
       "183984  [wonderful, stay, fatihs, appartment, well_loc...  English  \n",
       "35772   [hosts, representative, timely, helpful, flat,...  English  \n",
       "115304  [perfect, location, istanbul, min_walk, metro,...  English  \n",
       "48515   [enjoyed_stay, alihans, place, nice, cozy, goo...  English  \n",
       "137356  [amazing, location, extremely, beautiful, apar...  English  "
      ]
     },
     "execution_count": 43,
     "metadata": {},
     "output_type": "execute_result"
    }
   ],
   "source": [
    "english_df.sample(10)"
   ]
  },
  {
   "cell_type": "code",
   "execution_count": 44,
   "metadata": {},
   "outputs": [
    {
     "data": {
      "text/plain": [
       "[('english', 0.5686886310577393),\n",
       " ('food', 0.5678949356079102),\n",
       " ('local_culture', 0.5601766109466553),\n",
       " ('locals', 0.5592986345291138),\n",
       " ('language', 0.5567449927330017),\n",
       " ('delicious', 0.5513635873794556),\n",
       " ('learn', 0.5459684133529663),\n",
       " ('local', 0.5445338487625122),\n",
       " ('learning', 0.5434199571609497),\n",
       " ('turkish_culture', 0.5400017499923706)]"
      ]
     },
     "execution_count": 44,
     "metadata": {},
     "output_type": "execute_result"
    }
   ],
   "source": [
    "w2v_model.wv.most_similar(\"turkish\")"
   ]
  },
  {
   "cell_type": "code",
   "execution_count": 45,
   "metadata": {},
   "outputs": [],
   "source": [
    "def restrict_w2v(w2v, restricted_word_set):\n",
    "    new_vectors = []\n",
    "    new_vocab = {}\n",
    "    new_index2entity = []\n",
    "    new_vectors_norm = []\n",
    "\n",
    "    for i in range(len(w2v.wv.vocab)):\n",
    "        word = w2v.wv.index2entity[i]\n",
    "        vec = w2v.wv.vectors[i]\n",
    "        vocab = w2v.wv.vocab[word]\n",
    "        vec_norm = w2v.wv.vectors_norm[i]\n",
    "        if word in restricted_word_set:\n",
    "            vocab.index = len(new_index2entity)\n",
    "            new_index2entity.append(word)\n",
    "            new_vocab[word] = vocab\n",
    "            new_vectors.append(vec)\n",
    "            new_vectors_norm.append(vec_norm)\n",
    "\n",
    "    w2v.wv.vocab = new_vocab\n",
    "    w2v.wv.vectors = np.array(new_vectors)\n",
    "    w2v.wv.index2entity = np.array(new_index2entity)\n",
    "    w2v.wv.index2word = np.array(new_index2entity)\n",
    "    w2v.wv.vectors_norm = np.array(new_vectors_norm)\n",
    "    \n",
    "    return w2v"
   ]
  },
  {
   "cell_type": "code",
   "execution_count": 46,
   "metadata": {},
   "outputs": [],
   "source": [
    "# create english w2v model\n",
    "english_w2v = restrict_w2v(w2v_model, english_terms)"
   ]
  },
  {
   "cell_type": "code",
   "execution_count": 47,
   "metadata": {},
   "outputs": [],
   "source": [
    "# create kmeans on english comments\n",
    "english_kmeans = KMeans(n_clusters=13, n_init=20, max_iter=1000, random_state=37)\n",
    "cluster_english = english_kmeans.fit(english_w2v.wv.vectors)"
   ]
  },
  {
   "cell_type": "code",
   "execution_count": 48,
   "metadata": {},
   "outputs": [
    {
     "data": {
      "text/plain": [
       "[('buses', 0.7347108125686646),\n",
       " ('bus_stop', 0.7334233522415161),\n",
       " ('bus_station', 0.7318099141120911),\n",
       " ('ferry', 0.727907121181488),\n",
       " ('subway', 0.7232745289802551),\n",
       " ('metro_station', 0.7211447358131409),\n",
       " ('take', 0.7204360961914062),\n",
       " ('min_walk', 0.7133404612541199),\n",
       " ('minutes_walk', 0.7120323181152344),\n",
       " ('taksim_square', 0.7107235193252563),\n",
       " ('bus_stops', 0.7078344225883484),\n",
       " ('metro', 0.7069299221038818),\n",
       " ('stops', 0.7064574956893921),\n",
       " ('minutes', 0.7046405076980591),\n",
       " ('pier', 0.7017534375190735),\n",
       " ('metro_lines', 0.697770357131958),\n",
       " ('mins', 0.6976408362388611),\n",
       " ('train', 0.6975709795951843),\n",
       " ('stop', 0.6973103284835815),\n",
       " ('ferry_station', 0.6969348788261414)]"
      ]
     },
     "execution_count": 48,
     "metadata": {},
     "output_type": "execute_result"
    }
   ],
   "source": [
    "# check results of model\n",
    "english_w2v.wv.similar_by_vector(english_kmeans.cluster_centers_[7], topn=20)"
   ]
  },
  {
   "cell_type": "code",
   "execution_count": 49,
   "metadata": {},
   "outputs": [
    {
     "data": {
      "text/plain": [
       "[('delicious', 0.7899388074874878),\n",
       " ('food', 0.7721359729766846),\n",
       " ('coffee', 0.7580487728118896),\n",
       " ('pastries', 0.7477786540985107),\n",
       " ('shop', 0.7243868112564087),\n",
       " ('sweets', 0.7168543338775635),\n",
       " ('foods', 0.7154241800308228),\n",
       " ('juice', 0.7149456739425659),\n",
       " ('breakfast', 0.7101773023605347),\n",
       " ('bread', 0.7093871831893921),\n",
       " ('tasty', 0.7081373929977417),\n",
       " ('yummy', 0.7077721357345581),\n",
       " ('fresh', 0.7043357491493225),\n",
       " ('traditional_turkish', 0.7037296891212463),\n",
       " ('around_corner', 0.6992841958999634),\n",
       " ('drinks', 0.698009729385376),\n",
       " ('delicious_turkish', 0.6978676319122314),\n",
       " ('buy', 0.6972285509109497),\n",
       " ('pastry', 0.6967357397079468),\n",
       " ('fresh_bread', 0.6964704990386963)]"
      ]
     },
     "execution_count": 49,
     "metadata": {},
     "output_type": "execute_result"
    }
   ],
   "source": [
    "english_w2v.wv.similar_by_vector(english_kmeans.cluster_centers_[12], topn=20)"
   ]
  },
  {
   "cell_type": "code",
   "execution_count": 50,
   "metadata": {},
   "outputs": [],
   "source": [
    "# create names for topics\n",
    "topics_map = {0:'authentic, charming, beautiful neighbourhood', 1:'helpful host', 2: 'general host', 3: 'difficulties and things to be aware', 4: 'negatives',\n",
    "             5: 'positive stay', 6: 'all about the views', 7: 'transport', 8: 'accommodation essentials', 9: 'proximity to tourist stuff', 10: 'good location',\n",
    "             11:'turkish names', 12: 'food and drink'}"
   ]
  },
  {
   "cell_type": "code",
   "execution_count": 51,
   "metadata": {},
   "outputs": [],
   "source": [
    "# create new df for clusters of english terms\n",
    "english_terms_df = pd.DataFrame(english_w2v.wv.vocab.keys())\n",
    "english_terms_df.columns = ['terms']\n",
    "english_terms_df['vectors'] = english_terms_df.terms.apply(lambda x: english_w2v.wv[f'{x}'])\n",
    "english_terms_df['cluster'] = english_terms_df.vectors.apply(lambda x: english_kmeans.predict([np.array(x)]))\n",
    "english_terms_df.cluster = english_terms_df.cluster.apply(lambda x: x[0])\n",
    "english_terms_df.cluster = english_terms_df.cluster.map(topics_map)"
   ]
  },
  {
   "cell_type": "code",
   "execution_count": 52,
   "metadata": {},
   "outputs": [
    {
     "data": {
      "text/html": [
       "<div>\n",
       "<style scoped>\n",
       "    .dataframe tbody tr th:only-of-type {\n",
       "        vertical-align: middle;\n",
       "    }\n",
       "\n",
       "    .dataframe tbody tr th {\n",
       "        vertical-align: top;\n",
       "    }\n",
       "\n",
       "    .dataframe thead th {\n",
       "        text-align: right;\n",
       "    }\n",
       "</style>\n",
       "<table border=\"1\" class=\"dataframe\">\n",
       "  <thead>\n",
       "    <tr style=\"text-align: right;\">\n",
       "      <th></th>\n",
       "      <th>terms</th>\n",
       "      <th>vectors</th>\n",
       "      <th>cluster</th>\n",
       "    </tr>\n",
       "  </thead>\n",
       "  <tbody>\n",
       "    <tr>\n",
       "      <th>0</th>\n",
       "      <td>place</td>\n",
       "      <td>[0.09719277, 0.020596983, -0.008942136, -0.003...</td>\n",
       "      <td>good location</td>\n",
       "    </tr>\n",
       "    <tr>\n",
       "      <th>1</th>\n",
       "      <td>great</td>\n",
       "      <td>[0.14350513, 0.09043725, -0.045027528, -0.0969...</td>\n",
       "      <td>good location</td>\n",
       "    </tr>\n",
       "    <tr>\n",
       "      <th>2</th>\n",
       "      <td>apartment</td>\n",
       "      <td>[0.14439917, 0.03958666, 0.057837404, -0.01291...</td>\n",
       "      <td>good location</td>\n",
       "    </tr>\n",
       "    <tr>\n",
       "      <th>3</th>\n",
       "      <td>location</td>\n",
       "      <td>[0.17206489, 0.0006612921, -0.008534451, -0.10...</td>\n",
       "      <td>good location</td>\n",
       "    </tr>\n",
       "    <tr>\n",
       "      <th>4</th>\n",
       "      <td>stay</td>\n",
       "      <td>[0.12136386, 0.06508104, 0.03630459, -0.041549...</td>\n",
       "      <td>positive stay</td>\n",
       "    </tr>\n",
       "  </tbody>\n",
       "</table>\n",
       "</div>"
      ],
      "text/plain": [
       "       terms                                            vectors        cluster\n",
       "0      place  [0.09719277, 0.020596983, -0.008942136, -0.003...  good location\n",
       "1      great  [0.14350513, 0.09043725, -0.045027528, -0.0969...  good location\n",
       "2  apartment  [0.14439917, 0.03958666, 0.057837404, -0.01291...  good location\n",
       "3   location  [0.17206489, 0.0006612921, -0.008534451, -0.10...  good location\n",
       "4       stay  [0.12136386, 0.06508104, 0.03630459, -0.041549...  positive stay"
      ]
     },
     "execution_count": 52,
     "metadata": {},
     "output_type": "execute_result"
    }
   ],
   "source": [
    "english_terms_df.head()"
   ]
  },
  {
   "cell_type": "code",
   "execution_count": 53,
   "metadata": {},
   "outputs": [],
   "source": [
    "# create dictionary of terms and clusters\n",
    "term_clusters = dict(zip(english_terms_df['terms'], english_terms_df['cluster']))"
   ]
  },
  {
   "cell_type": "code",
   "execution_count": 54,
   "metadata": {},
   "outputs": [],
   "source": [
    "# create list of english terms to keep\n",
    "term_keys = set(term_clusters.keys())"
   ]
  },
  {
   "cell_type": "code",
   "execution_count": 55,
   "metadata": {},
   "outputs": [],
   "source": [
    "for i in english_df.comment:\n",
    "    for j in i:\n",
    "        if j not in term_keys:\n",
    "            i.remove(j)"
   ]
  },
  {
   "cell_type": "code",
   "execution_count": 56,
   "metadata": {},
   "outputs": [],
   "source": [
    "max_features = pd.Series(' '.join(i for i in english_df.comment.str.join(' ')).split()).nunique()"
   ]
  },
  {
   "cell_type": "code",
   "execution_count": 57,
   "metadata": {},
   "outputs": [
    {
     "data": {
      "text/plain": [
       "22972"
      ]
     },
     "execution_count": 57,
     "metadata": {},
     "output_type": "execute_result"
    }
   ],
   "source": [
    "max_features"
   ]
  },
  {
   "cell_type": "code",
   "execution_count": 58,
   "metadata": {},
   "outputs": [],
   "source": [
    "# create tfidf\n",
    "tfidf_vect = TfidfVectorizer(ngram_range=(1,1), norm='l2', sublinear_tf=True, smooth_idf=True, min_df=1, max_df=1., max_features=max_features)"
   ]
  },
  {
   "cell_type": "code",
   "execution_count": 59,
   "metadata": {},
   "outputs": [],
   "source": [
    "tfidf_comments = tfidf_vect.fit_transform(english_df.comment.str.join(' '))"
   ]
  },
  {
   "cell_type": "code",
   "execution_count": 60,
   "metadata": {},
   "outputs": [],
   "source": [
    "comment_features = tfidf_vect.get_feature_names()"
   ]
  },
  {
   "cell_type": "code",
   "execution_count": 61,
   "metadata": {},
   "outputs": [],
   "source": [
    "from scipy.sparse import coo_matrix\n",
    "def sort_coo(coo_matrix):\n",
    "    tuples = zip(coo_matrix.col, coo_matrix.data)\n",
    "    return sorted(tuples, key=lambda x: (x[1], x[0]), reverse=True)"
   ]
  },
  {
   "cell_type": "code",
   "execution_count": 62,
   "metadata": {},
   "outputs": [],
   "source": [
    "def extract_topn_from_vector(feature_names, sorted_items, english_terms, topn=10):\n",
    "    \"\"\"get the feature names and tf-idf score of top n items\"\"\"\n",
    "    \n",
    "    #use only topn items from vector\n",
    "    sorted_items = sorted_items[:topn]\n",
    " \n",
    "    score_vals = []\n",
    "    feature_vals = []\n",
    "    cluster_vals = []\n",
    "    \n",
    "    # word index and corresponding tf-idf score\n",
    "    for idx, score in sorted_items:\n",
    "        \n",
    "        #keep track of feature name and its corresponding score\n",
    "        term = feature_names[idx]\n",
    "        if term in english_terms:\n",
    "            score_vals.append(round(score, 3))\n",
    "            feature_vals.append(term)\n",
    "            cluster_vals.append(term_clusters[term])\n",
    "        \n",
    " \n",
    "    #create a tuples of feature,score\n",
    "    #results = zip(feature_vals,score_vals)\n",
    "    results= {}\n",
    "    for idx in range(len(feature_vals)):\n",
    "        results[feature_vals[idx]]=[score_vals[idx], cluster_vals[idx]]\n",
    "    \n",
    "    return results"
   ]
  },
  {
   "cell_type": "code",
   "execution_count": 63,
   "metadata": {},
   "outputs": [
    {
     "name": "stdout",
     "output_type": "stream",
     "text": [
      "\n",
      "Abstract:\n",
      "came_back weeks stay apartment loved place described shown_pictures tidy beautifully_furnished comfortable food daily essentials houses location great especially prefer stay crowded rather touristy place even_though city_centre easy_get downtown particularly enjoyed option ferry centre mins views onto bridge nighttime bosporus made even_better theres also plenty little shops places_eat close host awesome well generous kind inviting showing_us around explaining culture us fun around absolutely made_sure wed feel_home great couldnt_asked would_definitely recommend_anyone\n",
      "\n",
      "Keywords:\n",
      "nighttime [0.185, 'all about the views']\n",
      "beautifully_furnished [0.179, 'good location']\n",
      "showing_us [0.167, 'helpful host']\n",
      "inviting [0.166, 'authentic, charming, beautiful neighbourhood']\n",
      "explaining [0.166, 'helpful host']\n",
      "onto [0.162, 'all about the views']\n",
      "couldnt_asked [0.16, 'good location']\n",
      "wed [0.156, 'general host']\n",
      "downtown [0.154, 'proximity to tourist stuff']\n",
      "essentials [0.153, 'accommodation essentials']\n"
     ]
    }
   ],
   "source": [
    "sorted_items=sort_coo(tfidf_comments[0].tocoo())\n",
    "#extract only the top n; n here is 10\n",
    "keywords=extract_topn_from_vector(comment_features,sorted_items,english_terms, 10)\n",
    " \n",
    "# now print the results\n",
    "print(\"\\nAbstract:\")\n",
    "print(english_df.comment.str.join(' ')[0])\n",
    "print(\"\\nKeywords:\")\n",
    "for k in keywords:\n",
    "    print(k,keywords[k])"
   ]
  },
  {
   "cell_type": "code",
   "execution_count": 64,
   "metadata": {},
   "outputs": [],
   "source": [
    "sorted_items_list = []\n",
    "for i in tfidf_comments:\n",
    "    sorted_items_list.append(sort_coo(i.tocoo()))"
   ]
  },
  {
   "cell_type": "code",
   "execution_count": 65,
   "metadata": {},
   "outputs": [],
   "source": [
    "keywords_list = []\n",
    "for i in sorted_items_list:\n",
    "    keywords_list.append(extract_topn_from_vector(comment_features, i, english_terms, 10))"
   ]
  },
  {
   "cell_type": "code",
   "execution_count": 66,
   "metadata": {},
   "outputs": [],
   "source": [
    "themes = []\n",
    "for i in keywords_list:\n",
    "    themes.append([j[1] for j in i.values()])\n",
    "\n",
    "themes = [list(set(i)) for i in themes]"
   ]
  },
  {
   "cell_type": "code",
   "execution_count": 67,
   "metadata": {},
   "outputs": [],
   "source": [
    "# add themes of comment to df\n",
    "english_df['comment_themes'] = themes"
   ]
  },
  {
   "cell_type": "code",
   "execution_count": 68,
   "metadata": {},
   "outputs": [],
   "source": [
    "english_df.comment_themes = english_df.comment_themes.str.join(', ')"
   ]
  },
  {
   "cell_type": "code",
   "execution_count": 69,
   "metadata": {},
   "outputs": [],
   "source": [
    "english_df = english_df.drop(['id_x', 'id_y'], axis=1)"
   ]
  },
  {
   "cell_type": "code",
   "execution_count": 70,
   "metadata": {},
   "outputs": [
    {
     "data": {
      "text/html": [
       "<div>\n",
       "<style scoped>\n",
       "    .dataframe tbody tr th:only-of-type {\n",
       "        vertical-align: middle;\n",
       "    }\n",
       "\n",
       "    .dataframe tbody tr th {\n",
       "        vertical-align: top;\n",
       "    }\n",
       "\n",
       "    .dataframe thead th {\n",
       "        text-align: right;\n",
       "    }\n",
       "</style>\n",
       "<table border=\"1\" class=\"dataframe\">\n",
       "  <thead>\n",
       "    <tr style=\"text-align: right;\">\n",
       "      <th></th>\n",
       "      <th>listing_id</th>\n",
       "      <th>date</th>\n",
       "      <th>reviewer_id</th>\n",
       "      <th>reviewer_name</th>\n",
       "      <th>comments</th>\n",
       "      <th>summary</th>\n",
       "      <th>description</th>\n",
       "      <th>neighbourhood_cleansed</th>\n",
       "      <th>review_scores_rating</th>\n",
       "      <th>comment_cleaned</th>\n",
       "      <th>comment_len</th>\n",
       "      <th>comment_unique_len</th>\n",
       "      <th>comment_quality</th>\n",
       "      <th>comment</th>\n",
       "      <th>language</th>\n",
       "      <th>comment_themes</th>\n",
       "    </tr>\n",
       "  </thead>\n",
       "  <tbody>\n",
       "    <tr>\n",
       "      <th>0</th>\n",
       "      <td>4826</td>\n",
       "      <td>2009-06-01</td>\n",
       "      <td>13823</td>\n",
       "      <td>Anja</td>\n",
       "      <td>We just came back from a weeks stay at Kaan's ...</td>\n",
       "      <td>My place is close to great views. My place is ...</td>\n",
       "      <td>My place is close to great views. My place is ...</td>\n",
       "      <td>Uskudar</td>\n",
       "      <td>100.0</td>\n",
       "      <td>came back weeks stay kaans apartment loved pla...</td>\n",
       "      <td>90</td>\n",
       "      <td>82</td>\n",
       "      <td>0.911111</td>\n",
       "      <td>[came_back, weeks, stay, apartment, loved, pla...</td>\n",
       "      <td>English</td>\n",
       "      <td>good location, general host, helpful host, acc...</td>\n",
       "    </tr>\n",
       "    <tr>\n",
       "      <th>1</th>\n",
       "      <td>20815</td>\n",
       "      <td>2010-03-24</td>\n",
       "      <td>49388</td>\n",
       "      <td>Chuck</td>\n",
       "      <td>My daughter and her friend and I all stayed at...</td>\n",
       "      <td>Watch The Bosphorus from The Comfy Hill. A spa...</td>\n",
       "      <td>Watch The Bosphorus from The Comfy Hill. A spa...</td>\n",
       "      <td>Besiktas</td>\n",
       "      <td>90.0</td>\n",
       "      <td>daughter friend stayed apt owned gulder husban...</td>\n",
       "      <td>113</td>\n",
       "      <td>90</td>\n",
       "      <td>0.796460</td>\n",
       "      <td>[daughter, friend, stayed, apt, owned, husband...</td>\n",
       "      <td>English</td>\n",
       "      <td>good location, positive stay, general host, ac...</td>\n",
       "    </tr>\n",
       "    <tr>\n",
       "      <th>2</th>\n",
       "      <td>20815</td>\n",
       "      <td>2010-05-08</td>\n",
       "      <td>93598</td>\n",
       "      <td>Sara</td>\n",
       "      <td>You cannot find a better place to stay in Turk...</td>\n",
       "      <td>Watch The Bosphorus from The Comfy Hill. A spa...</td>\n",
       "      <td>Watch The Bosphorus from The Comfy Hill. A spa...</td>\n",
       "      <td>Besiktas</td>\n",
       "      <td>90.0</td>\n",
       "      <td>find better place stay turkey firat basar imag...</td>\n",
       "      <td>99</td>\n",
       "      <td>85</td>\n",
       "      <td>0.858586</td>\n",
       "      <td>[find, better, place, stay, turkey, firat, ima...</td>\n",
       "      <td>English</td>\n",
       "      <td>positive stay, general host, helpful host, tur...</td>\n",
       "    </tr>\n",
       "    <tr>\n",
       "      <th>3</th>\n",
       "      <td>20815</td>\n",
       "      <td>2010-06-02</td>\n",
       "      <td>108540</td>\n",
       "      <td>Suzan</td>\n",
       "      <td>This comfortable apartment truly deserves the ...</td>\n",
       "      <td>Watch The Bosphorus from The Comfy Hill. A spa...</td>\n",
       "      <td>Watch The Bosphorus from The Comfy Hill. A spa...</td>\n",
       "      <td>Besiktas</td>\n",
       "      <td>90.0</td>\n",
       "      <td>comfortable apartment truly deserves name bosp...</td>\n",
       "      <td>216</td>\n",
       "      <td>182</td>\n",
       "      <td>0.842593</td>\n",
       "      <td>[comfortable, apartment, truly, deserves, name...</td>\n",
       "      <td>English</td>\n",
       "      <td>good location, helpful host, accommodation ess...</td>\n",
       "    </tr>\n",
       "    <tr>\n",
       "      <th>4</th>\n",
       "      <td>20815</td>\n",
       "      <td>2010-08-27</td>\n",
       "      <td>126482</td>\n",
       "      <td>William</td>\n",
       "      <td>I second all the excellent reviews of this pla...</td>\n",
       "      <td>Watch The Bosphorus from The Comfy Hill. A spa...</td>\n",
       "      <td>Watch The Bosphorus from The Comfy Hill. A spa...</td>\n",
       "      <td>Besiktas</td>\n",
       "      <td>90.0</td>\n",
       "      <td>second excellent reviews place neighborhood lo...</td>\n",
       "      <td>40</td>\n",
       "      <td>39</td>\n",
       "      <td>0.975000</td>\n",
       "      <td>[second, excellent, reviews, place, neighborho...</td>\n",
       "      <td>English</td>\n",
       "      <td>good location, general host, helpful host, acc...</td>\n",
       "    </tr>\n",
       "    <tr>\n",
       "      <th>...</th>\n",
       "      <td>...</td>\n",
       "      <td>...</td>\n",
       "      <td>...</td>\n",
       "      <td>...</td>\n",
       "      <td>...</td>\n",
       "      <td>...</td>\n",
       "      <td>...</td>\n",
       "      <td>...</td>\n",
       "      <td>...</td>\n",
       "      <td>...</td>\n",
       "      <td>...</td>\n",
       "      <td>...</td>\n",
       "      <td>...</td>\n",
       "      <td>...</td>\n",
       "      <td>...</td>\n",
       "      <td>...</td>\n",
       "    </tr>\n",
       "    <tr>\n",
       "      <th>195757</th>\n",
       "      <td>43076769</td>\n",
       "      <td>2020-04-01</td>\n",
       "      <td>342887152</td>\n",
       "      <td>Ahmet</td>\n",
       "      <td>Very nice and warm host and very flexible.\\nVe...</td>\n",
       "      <td>NaN</td>\n",
       "      <td>NaN</td>\n",
       "      <td>Beyoglu</td>\n",
       "      <td>100.0</td>\n",
       "      <td>nice warm host flexiblevery fast replies also ...</td>\n",
       "      <td>20</td>\n",
       "      <td>16</td>\n",
       "      <td>0.800000</td>\n",
       "      <td>[nice, warm, host, fast, replies, also, fast, ...</td>\n",
       "      <td>English</td>\n",
       "      <td>good location, proximity to tourist stuff, hel...</td>\n",
       "    </tr>\n",
       "    <tr>\n",
       "      <th>195759</th>\n",
       "      <td>43104164</td>\n",
       "      <td>2020-04-06</td>\n",
       "      <td>123258114</td>\n",
       "      <td>Selver Asu</td>\n",
       "      <td>Cinar place was absolutely what we were lookin...</td>\n",
       "      <td>galatanın kalbinde huzurlu geniş bir teras katı</td>\n",
       "      <td>galatanın kalbinde huzurlu geniş bir teras kat...</td>\n",
       "      <td>Beyoglu</td>\n",
       "      <td>100.0</td>\n",
       "      <td>cinar place absolutely looking easily fit mayb...</td>\n",
       "      <td>32</td>\n",
       "      <td>31</td>\n",
       "      <td>0.968750</td>\n",
       "      <td>[place, absolutely, looking, easily, fit, mayb...</td>\n",
       "      <td>English</td>\n",
       "      <td>positive stay, helpful host, accommodation ess...</td>\n",
       "    </tr>\n",
       "    <tr>\n",
       "      <th>195760</th>\n",
       "      <td>43104474</td>\n",
       "      <td>2020-04-20</td>\n",
       "      <td>161090247</td>\n",
       "      <td>Onur</td>\n",
       "      <td>Aşkın’s place is perfect for a stay in İstanbu...</td>\n",
       "      <td>Geniş ve ferah bir daire. Gerek duyulan her eş...</td>\n",
       "      <td>Geniş ve ferah bir daire. Gerek duyulan her eş...</td>\n",
       "      <td>Beyoglu</td>\n",
       "      <td>100.0</td>\n",
       "      <td>akns place perfect stay istanbulthe location g...</td>\n",
       "      <td>20</td>\n",
       "      <td>19</td>\n",
       "      <td>0.950000</td>\n",
       "      <td>[place, perfect, stay, istanbulthe, location, ...</td>\n",
       "      <td>English</td>\n",
       "      <td>good location, positive stay, general host</td>\n",
       "    </tr>\n",
       "    <tr>\n",
       "      <th>195773</th>\n",
       "      <td>43155442</td>\n",
       "      <td>2020-04-14</td>\n",
       "      <td>343818311</td>\n",
       "      <td>Анастасия</td>\n",
       "      <td>very nice residence. but amazing side is the f...</td>\n",
       "      <td>NaN</td>\n",
       "      <td>NaN</td>\n",
       "      <td>Atasehir</td>\n",
       "      <td>100.0</td>\n",
       "      <td>nice residence amazing side flatit well decora...</td>\n",
       "      <td>39</td>\n",
       "      <td>36</td>\n",
       "      <td>0.923077</td>\n",
       "      <td>[nice, residence, amazing, side, well_decorate...</td>\n",
       "      <td>English</td>\n",
       "      <td>good location, accommodation essentials, posit...</td>\n",
       "    </tr>\n",
       "    <tr>\n",
       "      <th>195775</th>\n",
       "      <td>43155442</td>\n",
       "      <td>2020-04-17</td>\n",
       "      <td>343996400</td>\n",
       "      <td>Julia</td>\n",
       "      <td>An outsanding space, with amazing views over I...</td>\n",
       "      <td>NaN</td>\n",
       "      <td>NaN</td>\n",
       "      <td>Atasehir</td>\n",
       "      <td>100.0</td>\n",
       "      <td>outsanding space amazing views istanbul bospho...</td>\n",
       "      <td>37</td>\n",
       "      <td>36</td>\n",
       "      <td>0.972973</td>\n",
       "      <td>[space, amazing_views, istanbul, bosphorus, ma...</td>\n",
       "      <td>English</td>\n",
       "      <td>good location, positive stay, helpful host, ac...</td>\n",
       "    </tr>\n",
       "  </tbody>\n",
       "</table>\n",
       "<p>137769 rows × 16 columns</p>\n",
       "</div>"
      ],
      "text/plain": [
       "        listing_id        date  reviewer_id reviewer_name  \\\n",
       "0             4826  2009-06-01        13823          Anja   \n",
       "1            20815  2010-03-24        49388         Chuck   \n",
       "2            20815  2010-05-08        93598          Sara   \n",
       "3            20815  2010-06-02       108540         Suzan   \n",
       "4            20815  2010-08-27       126482       William   \n",
       "...            ...         ...          ...           ...   \n",
       "195757    43076769  2020-04-01    342887152         Ahmet   \n",
       "195759    43104164  2020-04-06    123258114    Selver Asu   \n",
       "195760    43104474  2020-04-20    161090247          Onur   \n",
       "195773    43155442  2020-04-14    343818311     Анастасия   \n",
       "195775    43155442  2020-04-17    343996400         Julia   \n",
       "\n",
       "                                                 comments  \\\n",
       "0       We just came back from a weeks stay at Kaan's ...   \n",
       "1       My daughter and her friend and I all stayed at...   \n",
       "2       You cannot find a better place to stay in Turk...   \n",
       "3       This comfortable apartment truly deserves the ...   \n",
       "4       I second all the excellent reviews of this pla...   \n",
       "...                                                   ...   \n",
       "195757  Very nice and warm host and very flexible.\\nVe...   \n",
       "195759  Cinar place was absolutely what we were lookin...   \n",
       "195760  Aşkın’s place is perfect for a stay in İstanbu...   \n",
       "195773  very nice residence. but amazing side is the f...   \n",
       "195775  An outsanding space, with amazing views over I...   \n",
       "\n",
       "                                                  summary  \\\n",
       "0       My place is close to great views. My place is ...   \n",
       "1       Watch The Bosphorus from The Comfy Hill. A spa...   \n",
       "2       Watch The Bosphorus from The Comfy Hill. A spa...   \n",
       "3       Watch The Bosphorus from The Comfy Hill. A spa...   \n",
       "4       Watch The Bosphorus from The Comfy Hill. A spa...   \n",
       "...                                                   ...   \n",
       "195757                                                NaN   \n",
       "195759    galatanın kalbinde huzurlu geniş bir teras katı   \n",
       "195760  Geniş ve ferah bir daire. Gerek duyulan her eş...   \n",
       "195773                                                NaN   \n",
       "195775                                                NaN   \n",
       "\n",
       "                                              description  \\\n",
       "0       My place is close to great views. My place is ...   \n",
       "1       Watch The Bosphorus from The Comfy Hill. A spa...   \n",
       "2       Watch The Bosphorus from The Comfy Hill. A spa...   \n",
       "3       Watch The Bosphorus from The Comfy Hill. A spa...   \n",
       "4       Watch The Bosphorus from The Comfy Hill. A spa...   \n",
       "...                                                   ...   \n",
       "195757                                                NaN   \n",
       "195759  galatanın kalbinde huzurlu geniş bir teras kat...   \n",
       "195760  Geniş ve ferah bir daire. Gerek duyulan her eş...   \n",
       "195773                                                NaN   \n",
       "195775                                                NaN   \n",
       "\n",
       "       neighbourhood_cleansed  review_scores_rating  \\\n",
       "0                     Uskudar                 100.0   \n",
       "1                    Besiktas                  90.0   \n",
       "2                    Besiktas                  90.0   \n",
       "3                    Besiktas                  90.0   \n",
       "4                    Besiktas                  90.0   \n",
       "...                       ...                   ...   \n",
       "195757                Beyoglu                 100.0   \n",
       "195759                Beyoglu                 100.0   \n",
       "195760                Beyoglu                 100.0   \n",
       "195773               Atasehir                 100.0   \n",
       "195775               Atasehir                 100.0   \n",
       "\n",
       "                                          comment_cleaned  comment_len  \\\n",
       "0       came back weeks stay kaans apartment loved pla...           90   \n",
       "1       daughter friend stayed apt owned gulder husban...          113   \n",
       "2       find better place stay turkey firat basar imag...           99   \n",
       "3       comfortable apartment truly deserves name bosp...          216   \n",
       "4       second excellent reviews place neighborhood lo...           40   \n",
       "...                                                   ...          ...   \n",
       "195757  nice warm host flexiblevery fast replies also ...           20   \n",
       "195759  cinar place absolutely looking easily fit mayb...           32   \n",
       "195760  akns place perfect stay istanbulthe location g...           20   \n",
       "195773  nice residence amazing side flatit well decora...           39   \n",
       "195775  outsanding space amazing views istanbul bospho...           37   \n",
       "\n",
       "        comment_unique_len  comment_quality  \\\n",
       "0                       82         0.911111   \n",
       "1                       90         0.796460   \n",
       "2                       85         0.858586   \n",
       "3                      182         0.842593   \n",
       "4                       39         0.975000   \n",
       "...                    ...              ...   \n",
       "195757                  16         0.800000   \n",
       "195759                  31         0.968750   \n",
       "195760                  19         0.950000   \n",
       "195773                  36         0.923077   \n",
       "195775                  36         0.972973   \n",
       "\n",
       "                                                  comment language  \\\n",
       "0       [came_back, weeks, stay, apartment, loved, pla...  English   \n",
       "1       [daughter, friend, stayed, apt, owned, husband...  English   \n",
       "2       [find, better, place, stay, turkey, firat, ima...  English   \n",
       "3       [comfortable, apartment, truly, deserves, name...  English   \n",
       "4       [second, excellent, reviews, place, neighborho...  English   \n",
       "...                                                   ...      ...   \n",
       "195757  [nice, warm, host, fast, replies, also, fast, ...  English   \n",
       "195759  [place, absolutely, looking, easily, fit, mayb...  English   \n",
       "195760  [place, perfect, stay, istanbulthe, location, ...  English   \n",
       "195773  [nice, residence, amazing, side, well_decorate...  English   \n",
       "195775  [space, amazing_views, istanbul, bosphorus, ma...  English   \n",
       "\n",
       "                                           comment_themes  \n",
       "0       good location, general host, helpful host, acc...  \n",
       "1       good location, positive stay, general host, ac...  \n",
       "2       positive stay, general host, helpful host, tur...  \n",
       "3       good location, helpful host, accommodation ess...  \n",
       "4       good location, general host, helpful host, acc...  \n",
       "...                                                   ...  \n",
       "195757  good location, proximity to tourist stuff, hel...  \n",
       "195759  positive stay, helpful host, accommodation ess...  \n",
       "195760         good location, positive stay, general host  \n",
       "195773  good location, accommodation essentials, posit...  \n",
       "195775  good location, positive stay, helpful host, ac...  \n",
       "\n",
       "[137769 rows x 16 columns]"
      ]
     },
     "execution_count": 70,
     "metadata": {},
     "output_type": "execute_result"
    }
   ],
   "source": [
    "english_df"
   ]
  },
  {
   "cell_type": "code",
   "execution_count": 76,
   "metadata": {},
   "outputs": [],
   "source": [
    "english_df = english_df.reset_index(drop=True)"
   ]
  },
  {
   "cell_type": "code",
   "execution_count": 101,
   "metadata": {},
   "outputs": [
    {
     "data": {
      "text/plain": [
       "\"Isik's flat is very cozy and clean. The location is really close to taksim square which means very covenient for shopping, dining and transportation. Isik is very cosiderate that he even prepared the transportation card for us. In his flat, everything you will need is prepared, even a turkish coffee pot. It makes us feel we stay at home. The only drawback is during weekend the night club music downstair is loud.\""
      ]
     },
     "execution_count": 101,
     "metadata": {},
     "output_type": "execute_result"
    }
   ],
   "source": [
    "english_df.comments[10455]"
   ]
  },
  {
   "cell_type": "code",
   "execution_count": 102,
   "metadata": {},
   "outputs": [
    {
     "data": {
      "text/plain": [
       "'good location, helpful host, accommodation essentials, turkish names, difficulties and things to be aware, negatives, food and drink, authentic, charming, beautiful neighbourhood'"
      ]
     },
     "execution_count": 102,
     "metadata": {},
     "output_type": "execute_result"
    }
   ],
   "source": [
    "english_df.comment_themes[10455]"
   ]
  },
  {
   "cell_type": "code",
   "execution_count": 103,
   "metadata": {},
   "outputs": [
    {
     "data": {
      "text/plain": [
       "[('history', 0.6251012682914734),\n",
       " ('turkish_culture', 0.5574772357940674),\n",
       " ('learn', 0.5400067567825317),\n",
       " ('discussions', 0.5350602865219116),\n",
       " ('local_culture', 0.5303925275802612),\n",
       " ('dubai', 0.526940107345581),\n",
       " ('knowledge', 0.5252484083175659),\n",
       " ('insight', 0.5223596096038818),\n",
       " ('tulum', 0.5193666815757751),\n",
       " ('knows', 0.5118342638015747)]"
      ]
     },
     "execution_count": 103,
     "metadata": {},
     "output_type": "execute_result"
    }
   ],
   "source": [
    "english_w2v.wv.most_similar('culture')"
   ]
  },
  {
   "cell_type": "code",
   "execution_count": 92,
   "metadata": {},
   "outputs": [
    {
     "data": {
      "text/plain": [
       "'The place was noisy outside and inside, the floor was too noisy because of the old wooden parquet, bathroom had mold and smells bad, also was licking however the lick stoped after I let the neighbor knows. NO AIR CONDITIONER. A homeless man was sleeping exactly in front of the entrance , so annoying. The water warmer was inside the bedroom next to the bed , I didn’t feel safe at all and when I told to the owner she claimed it’s legal but still was noisy and annoying. Finally  I didn’t have a pleasant experience staying there. She was trying to makes everything ok button most of them weren’t fixable at the moment. The property is too old and need a real renovation. And the last thing I was full of mosquito’s bites after staying there.'"
      ]
     },
     "execution_count": 92,
     "metadata": {},
     "output_type": "execute_result"
    }
   ],
   "source": [
    "english_df[english_df.comment_themes == 'negatives'].comments[108508]"
   ]
  },
  {
   "cell_type": "code",
   "execution_count": 86,
   "metadata": {},
   "outputs": [
    {
     "data": {
      "text/plain": [
       "'positive stay, general host, helpful host, turkish names, negatives, food and drink, all about the views'"
      ]
     },
     "execution_count": 86,
     "metadata": {},
     "output_type": "execute_result"
    }
   ],
   "source": [
    "english_df[english_df.comment_themes.str.contains('negative')].comment_themes[2]"
   ]
  },
  {
   "cell_type": "code",
   "execution_count": null,
   "metadata": {},
   "outputs": [],
   "source": []
  }
 ],
 "metadata": {
  "kernelspec": {
   "display_name": "Python 3",
   "language": "python",
   "name": "python3"
  },
  "language_info": {
   "codemirror_mode": {
    "name": "ipython",
    "version": 3
   },
   "file_extension": ".py",
   "mimetype": "text/x-python",
   "name": "python",
   "nbconvert_exporter": "python",
   "pygments_lexer": "ipython3",
   "version": "3.7.7"
  }
 },
 "nbformat": 4,
 "nbformat_minor": 4
}
